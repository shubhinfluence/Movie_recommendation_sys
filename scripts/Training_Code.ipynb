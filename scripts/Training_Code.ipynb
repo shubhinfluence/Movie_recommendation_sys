{
  "cells": [
    {
      "cell_type": "markdown",
      "metadata": {
        "id": "aNUHmdL14yAT"
      },
      "source": [
        "Transformer Based Rec System!"
      ]
    },
    {
      "cell_type": "code",
      "execution_count": 1,
      "metadata": {
        "id": "XWaIjVZikeIc"
      },
      "outputs": [],
      "source": [
        "import pandas as pd\n",
        "import torch\n",
        "from tqdm import tqdm\n",
        "import math\n",
        "from urllib.request import urlretrieve\n",
        "from zipfile import ZipFile\n",
        "import os\n",
        "import torch.nn as nn\n",
        "import numpy as np"
      ]
    },
    {
      "cell_type": "code",
      "execution_count": 2,
      "metadata": {
        "colab": {
          "base_uri": "https://localhost:8080/"
        },
        "id": "m1xaL52TkghD",
        "outputId": "1c72a7fc-434c-4b2b-c4b8-be7ccd4462e2"
      },
      "outputs": [
        {
          "data": {
            "text/plain": [
              "device(type='cuda')"
            ]
          },
          "execution_count": 2,
          "metadata": {},
          "output_type": "execute_result"
        }
      ],
      "source": [
        "import torch.cuda\n",
        "\n",
        "# Check if GPU is available\n",
        "device = torch.device(\"cuda\" if torch.cuda.is_available() else \"cpu\")\n",
        "device"
      ]
    },
    {
      "cell_type": "code",
      "execution_count": 4,
      "metadata": {
        "id": "Jmp0cVSbkmm5"
      },
      "outputs": [],
      "source": [
        "users = pd.read_csv(\n",
        "    \"../data/ml-1m/users.dat\",\n",
        "    sep=\"::\",\n",
        "    names=[\"user_id\", \"sex\", \"age_group\", \"occupation\", \"zip_code\"],\n",
        "    encoding=\"latin1\",\n",
        "    engine = \"python\"\n",
        ")\n",
        "\n",
        "ratings = pd.read_csv(\n",
        "    \"../data/ml-1m/ratings.dat\",\n",
        "    sep=\"::\",\n",
        "    names=[\"user_id\", \"movie_id\", \"rating\", \"unix_timestamp\"],\n",
        "    encoding=\"latin1\",\n",
        "    engine = \"python\"\n",
        ")\n",
        "\n",
        "movies = pd.read_csv(\n",
        "    \"../data/ml-1m/movies.dat\",\n",
        "    sep=\"::\",\n",
        "    names=[\"movie_id\", \"title\", \"genres\"],\n",
        "    encoding=\"latin1\",\n",
        "    engine = \"python\"\n",
        ")"
      ]
    },
    {
      "cell_type": "code",
      "execution_count": 5,
      "metadata": {
        "id": "-9wbHQF3kopu"
      },
      "outputs": [],
      "source": [
        "movies[\"year\"] = movies[\"title\"].apply(lambda x: x[-5:-1])\n",
        "movies.year = pd.Categorical(movies.year)\n",
        "movies[\"year\"] = movies.year.cat.codes\n",
        "## Users\n",
        "users.sex = pd.Categorical(users.sex)\n",
        "users[\"sex\"] = users.sex.cat.codes\n",
        "\n",
        "\n",
        "users.age_group = pd.Categorical(users.age_group)\n",
        "users[\"age_group\"] = users.age_group.cat.codes\n",
        "\n",
        "users.occupation = pd.Categorical(users.occupation)\n",
        "users[\"occupation\"] = users.occupation.cat.codes\n",
        "\n",
        "\n",
        "users.zip_code = pd.Categorical(users.zip_code)\n",
        "users[\"zip_code\"] = users.zip_code.cat.codes\n",
        "\n",
        "#Ratings\n",
        "ratings['unix_timestamp'] = pd.to_datetime(ratings['unix_timestamp'],unit='s')"
      ]
    },
    {
      "cell_type": "code",
      "execution_count": 6,
      "metadata": {
        "id": "lKp6zXwkkqkq"
      },
      "outputs": [],
      "source": [
        "movies_metadata = pd.read_csv(\"../data/ml-1m/movies_metadata.csv\", low_memory=False)"
      ]
    },
    {
      "cell_type": "code",
      "execution_count": 7,
      "metadata": {
        "id": "rNRHJ3RhkvVt"
      },
      "outputs": [],
      "source": [
        "movies[\"year_join\"] = movies['title'].apply(lambda x : int(x[-5:-1]))\n",
        "movies[\"title\"] = movies[\"title\"].apply(lambda x : x[:-6].strip())"
      ]
    },
    {
      "cell_type": "code",
      "execution_count": 8,
      "metadata": {
        "id": "aHdaG4WtlUAH"
      },
      "outputs": [],
      "source": [
        "movies_metadata = movies_metadata[movies_metadata.release_date.notnull()]"
      ]
    },
    {
      "cell_type": "code",
      "execution_count": 9,
      "metadata": {
        "id": "FdfbcOyjlVa3"
      },
      "outputs": [],
      "source": [
        "movies_metadata[\"year_join\"] = movies_metadata[\"release_date\"].apply(lambda x : int(x[:4]))"
      ]
    },
    {
      "cell_type": "code",
      "execution_count": 10,
      "metadata": {
        "id": "VNOp8x05lW0K"
      },
      "outputs": [],
      "source": [
        "merged_movies = pd.merge(movies, movies_metadata[['title', 'year_join', 'overview']], on=['title', 'year_join'], how='inner')"
      ]
    },
    {
      "cell_type": "code",
      "execution_count": 11,
      "metadata": {
        "id": "pSX3Nc33lYCX"
      },
      "outputs": [],
      "source": [
        "movies = merged_movies"
      ]
    },
    {
      "cell_type": "code",
      "execution_count": 12,
      "metadata": {
        "id": "hr4it8OOlZIk"
      },
      "outputs": [],
      "source": [
        "movies.dropna(inplace=True)"
      ]
    },
    {
      "cell_type": "code",
      "execution_count": 13,
      "metadata": {
        "id": "F__1aOgklacZ"
      },
      "outputs": [],
      "source": [
        "overview_dict = {}\n",
        "for id, overview in zip(movies.movie_id, movies.overview):\n",
        "    overview_dict[id] = overview"
      ]
    },
    {
      "cell_type": "code",
      "execution_count": 18,
      "metadata": {
        "id": "iwJrjbn-lbxZ"
      },
      "outputs": [],
      "source": [
        "import json\n",
        "with open(\"../data/ml-1m/over_view.json\",\"w\") as f:\n",
        "    json.dump(overview_dict, f)"
      ]
    },
    {
      "cell_type": "code",
      "execution_count": 19,
      "metadata": {
        "id": "Wg5EpDwjldZ0"
      },
      "outputs": [],
      "source": [
        "ratings[\"is_true\"] = ratings['movie_id'].apply(lambda x : int(x) in overview_dict.keys())"
      ]
    },
    {
      "cell_type": "code",
      "execution_count": 20,
      "metadata": {
        "id": "pOyL4KCalewl"
      },
      "outputs": [],
      "source": [
        "ratings = ratings[ratings.is_true]"
      ]
    },
    {
      "cell_type": "code",
      "execution_count": 21,
      "metadata": {
        "id": "2Qr32qH0lgN3"
      },
      "outputs": [],
      "source": [
        "ratings.drop(\"is_true\", axis = 1, inplace=True)"
      ]
    },
    {
      "cell_type": "code",
      "execution_count": 22,
      "metadata": {
        "id": "fGkMjVtGliSt"
      },
      "outputs": [],
      "source": [
        "ratings.reset_index(inplace=True)"
      ]
    },
    {
      "cell_type": "code",
      "execution_count": 23,
      "metadata": {
        "id": "ktY_FqCcljpT"
      },
      "outputs": [],
      "source": [
        "ratings.drop([\"index\"], axis=1, inplace = True)"
      ]
    },
    {
      "cell_type": "code",
      "execution_count": 24,
      "metadata": {
        "id": "8uKU4Xpclli5"
      },
      "outputs": [],
      "source": [
        "if not os.path.exists('data'):\n",
        "    os.makedirs('data')\n",
        "\n",
        "\n",
        "users.to_csv(\"data/users.csv\",index=False)\n",
        "movies.to_csv(\"data/movies.csv\",index=False)\n",
        "ratings.to_csv(\"data/ratings.csv\",index=False)"
      ]
    },
    {
      "cell_type": "code",
      "execution_count": 25,
      "metadata": {
        "id": "ABX5M1k8lnpN"
      },
      "outputs": [],
      "source": [
        "## Movies\n",
        "movies[\"movie_id\"] = movies[\"movie_id\"].astype(str)\n",
        "## Users\n",
        "users[\"user_id\"] = users[\"user_id\"].astype(str)\n",
        "\n",
        "##Ratings\n",
        "ratings[\"movie_id\"] = ratings[\"movie_id\"].astype(str)\n",
        "ratings[\"user_id\"] = ratings[\"user_id\"].astype(str)"
      ]
    },
    {
      "cell_type": "code",
      "execution_count": 26,
      "metadata": {
        "id": "5-7dfT15lrP3"
      },
      "outputs": [],
      "source": [
        "genres = [\n",
        "    \"Action\",\n",
        "    \"Adventure\",\n",
        "    \"Animation\",\n",
        "    \"Children's\",\n",
        "    \"Comedy\",\n",
        "    \"Crime\",\n",
        "    \"Documentary\",\n",
        "    \"Drama\",\n",
        "    \"Fantasy\",\n",
        "    \"Film-Noir\",\n",
        "    \"Horror\",\n",
        "    \"Musical\",\n",
        "    \"Mystery\",\n",
        "    \"Romance\",\n",
        "    \"Sci-Fi\",\n",
        "    \"Thriller\",\n",
        "    \"War\",\n",
        "    \"Western\",\n",
        "]\n",
        "\n",
        "for genre in genres:\n",
        "    movies[genre] = movies[\"genres\"].apply(\n",
        "        lambda values: int(genre in values.split(\"|\"))\n",
        "    )"
      ]
    },
    {
      "cell_type": "code",
      "execution_count": 27,
      "metadata": {
        "id": "iOKD0hysls7y"
      },
      "outputs": [],
      "source": [
        "movies.reset_index(inplace=True)"
      ]
    },
    {
      "cell_type": "code",
      "execution_count": 28,
      "metadata": {
        "id": "Wt9AN_3-luYW"
      },
      "outputs": [],
      "source": [
        "movie_genere_dict = {}\n",
        "for idx in range(len(movies)):\n",
        "    row = movies.iloc[idx]\n",
        "    movie_genere_dict[row.movie_id] = torch.tensor(list(row[genres].values), dtype=torch.float)"
      ]
    },
    {
      "cell_type": "code",
      "execution_count": 29,
      "metadata": {
        "id": "fJy5hlFqlv3d"
      },
      "outputs": [],
      "source": [
        "ratings_group = ratings.sort_values(by=[\"unix_timestamp\"]).groupby(\"user_id\")\n",
        "\n",
        "ratings_data = pd.DataFrame(\n",
        "    data={\n",
        "        \"user_id\": list(ratings_group.groups.keys()),\n",
        "        \"movie_ids\": list(ratings_group.movie_id.apply(list)),\n",
        "        \"ratings\": list(ratings_group.rating.apply(list)),\n",
        "        \"timestamps\": list(ratings_group.unix_timestamp.apply(list)),\n",
        "    }\n",
        ")"
      ]
    },
    {
      "cell_type": "code",
      "execution_count": 30,
      "metadata": {
        "id": "ZuNo8kJmlxOV"
      },
      "outputs": [],
      "source": [
        "sequence_length = 8\n",
        "step_size = 1\n",
        "\n",
        "\n",
        "def create_sequences(values, window_size, step_size):\n",
        "    sequences = []\n",
        "    start_index = 0\n",
        "    while True:\n",
        "        end_index = start_index + window_size\n",
        "        seq = values[start_index:end_index]\n",
        "        if len(seq) < window_size:\n",
        "            seq = values[-window_size:]\n",
        "            if len(seq) == window_size:\n",
        "                sequences.append(seq)\n",
        "            break\n",
        "        sequences.append(seq)\n",
        "        start_index += step_size\n",
        "    return sequences\n",
        "\n",
        "\n",
        "ratings_data.movie_ids = ratings_data.movie_ids.apply(\n",
        "    lambda ids: create_sequences(ids, sequence_length, step_size)\n",
        ")\n",
        "\n",
        "ratings_data.ratings = ratings_data.ratings.apply(\n",
        "    lambda ids: create_sequences(ids, sequence_length, step_size)\n",
        ")\n",
        "\n",
        "del ratings_data[\"timestamps\"]"
      ]
    },
    {
      "cell_type": "code",
      "execution_count": 31,
      "metadata": {
        "id": "Zv1mShOKlz9r"
      },
      "outputs": [],
      "source": [
        "ratings_data_movies = ratings_data[[\"user_id\", \"movie_ids\"]].explode(\n",
        "    \"movie_ids\", ignore_index=True\n",
        ")\n",
        "ratings_data_rating = ratings_data[[\"ratings\"]].explode(\"ratings\", ignore_index=True)\n",
        "ratings_data_transformed = pd.concat([ratings_data_movies, ratings_data_rating], axis=1)\n",
        "ratings_data_transformed = ratings_data_transformed.join(\n",
        "    users.set_index(\"user_id\"), on=\"user_id\"\n",
        ")\n",
        "ratings_data_transformed.movie_ids = ratings_data_transformed.movie_ids.apply(\n",
        "    lambda x: \",\".join(x)\n",
        ")\n",
        "ratings_data_transformed.ratings = ratings_data_transformed.ratings.apply(\n",
        "    lambda x: \",\".join([str(v) for v in x])\n",
        ")\n",
        "\n",
        "\n",
        "ratings_data_transformed.rename(\n",
        "    columns={\"movie_ids\": \"sequence_movie_ids\", \"ratings\": \"sequence_ratings\"},\n",
        "    inplace=True,\n",
        ")"
      ]
    },
    {
      "cell_type": "code",
      "execution_count": 32,
      "metadata": {
        "id": "KQAgMRAAl8Gm"
      },
      "outputs": [],
      "source": [
        "ratings_data_transformed[\"overviews\"] = ratings_data_transformed[\"sequence_movie_ids\"].apply(lambda x : [overview_dict[int(i)] for i in x.split(',')])"
      ]
    },
    {
      "cell_type": "code",
      "execution_count": 33,
      "metadata": {
        "id": "Gu627osAl-Vw"
      },
      "outputs": [],
      "source": [
        "random_selection = np.random.rand(len(ratings_data_transformed.index)) <= 0.85\n",
        "train_data = ratings_data_transformed[random_selection]\n",
        "test_data = ratings_data_transformed[~random_selection]\n",
        "\n",
        "train_data.to_csv(\"data/train_data.csv\", index=False, sep=\",\")\n",
        "test_data.to_csv(\"data/test_data.csv\", index=False, sep=\",\")"
      ]
    },
    {
      "cell_type": "code",
      "execution_count": 34,
      "metadata": {
        "id": "27FFhPnUmAnb"
      },
      "outputs": [],
      "source": [
        "import json\n",
        "with open('../data/ml-1m/overview_embeddings.json',\"r\") as f:\n",
        "    embed = json.load(f)"
      ]
    },
    {
      "cell_type": "code",
      "execution_count": 35,
      "metadata": {
        "id": "m4LrDBa6nC58"
      },
      "outputs": [],
      "source": [
        "embed_dict = {k[\"movies_id\"] : torch.tensor(k[\"overviews\"]) for k in embed}"
      ]
    },
    {
      "cell_type": "code",
      "execution_count": 36,
      "metadata": {
        "id": "7DRGLLKyz42c"
      },
      "outputs": [],
      "source": [
        "import pandas as pd\n",
        "import torch\n",
        "import torch.utils.data as data\n",
        "from torchvision import transforms\n",
        "import ast\n",
        "from torch.nn.utils.rnn import pad_sequence\n",
        "\n",
        "\n",
        "\n",
        "class MovieDataset(data.Dataset):\n",
        "    \"\"\"Movie dataset.\"\"\"\n",
        "\n",
        "    def __init__(\n",
        "        self, ratings_file,test=False\n",
        "    ):\n",
        "        \"\"\"\n",
        "        Args:\n",
        "            csv_file (string): Path to the csv file with user,past,future.\n",
        "        \"\"\"\n",
        "        self.ratings_frame = pd.read_csv(\n",
        "            ratings_file,\n",
        "            delimiter=\",\",\n",
        "            # iterator=True,\n",
        "        )\n",
        "        self.test = test\n",
        "\n",
        "    def __len__(self):\n",
        "        return len(self.ratings_frame)\n",
        "\n",
        "    def __getitem__(self, idx):\n",
        "        data = self.ratings_frame.iloc[idx]\n",
        "        user_id = data.user_id\n",
        "\n",
        "        movie_history = eval(data.sequence_movie_ids)\n",
        "        movie_history_ratings = eval(data.sequence_ratings)\n",
        "        overview_embed = torch.cat([embed_dict[str(id)].unsqueeze(0) for id in movie_history], axis = 0)\n",
        "        #print(overview_embed.shape)\n",
        "        movie_genere = torch.cat([movie_genere_dict[str(id)].unsqueeze(0) for id in movie_history], axis = 0)\n",
        "\n",
        "        target_movie_id = movie_history[-1:][0]\n",
        "        target_movie_rating = movie_history_ratings[-1:][0]\n",
        "\n",
        "        movie_history = torch.LongTensor(movie_history[:-1])\n",
        "        movie_history_ratings = torch.LongTensor(movie_history_ratings[:-1])\n",
        "\n",
        "        sex = data.sex\n",
        "        age_group = data.age_group\n",
        "        occupation = data.occupation\n",
        "        return user_id, movie_history, target_movie_id,  movie_history_ratings, target_movie_rating, sex, age_group, occupation, overview_embed, movie_genere"
      ]
    },
    {
      "cell_type": "code",
      "execution_count": 37,
      "metadata": {
        "id": "jZDRK31-2Iql"
      },
      "outputs": [],
      "source": [
        "class PositionalEmbedding(nn.Module):\n",
        "    def __init__(self, max_len, d_model):\n",
        "        super().__init__()\n",
        "        self.pos_embed = nn.Embedding(max_len, d_model)\n",
        "        self.to(device)\n",
        "    def forward(self, x):\n",
        "        batch_size = x.size(0)\n",
        "        return self.pos_embed.weight.unsqueeze(0).repeat(batch_size, 1, 1)"
      ]
    },
    {
      "cell_type": "code",
      "execution_count": 38,
      "metadata": {
        "id": "MlhOm2dw2Kg8"
      },
      "outputs": [],
      "source": [
        "users.user_id = users.user_id.apply(lambda x : int(x))\n",
        "movies.movie_id = movies.movie_id.apply(lambda x : int(x))\n"
      ]
    },
    {
      "cell_type": "code",
      "execution_count": 39,
      "metadata": {
        "id": "Nl12vCyU2LuF"
      },
      "outputs": [],
      "source": [
        "USER_LEN = users.user_id.max() + 1\n",
        "MOVIE_LEN = movies.movie_id.max() + 1\n",
        "AGE_LEN = len(users.age_group.unique())\n",
        "OCC_LEN = len(users.occupation.unique())\n",
        "ZIP_LEN = len(users.zip_code.unique())\n",
        "SEX_LEN = len(users.sex.unique())"
      ]
    },
    {
      "cell_type": "code",
      "execution_count": 40,
      "metadata": {
        "id": "IuE7sYb02NBM"
      },
      "outputs": [],
      "source": [
        "class Embedding(nn.Module):\n",
        "    def __init__(self, max_len):\n",
        "        super().__init__()\n",
        "        self.pos_embed = PositionalEmbedding(max_len, int(math.sqrt(MOVIE_LEN))+2).to(device)\n",
        "        self.user_embed = nn.Embedding(USER_LEN, int(math.sqrt(USER_LEN))).to(device)\n",
        "        self.age_embed = nn.Embedding(AGE_LEN, int(math.sqrt(AGE_LEN))).to(device)\n",
        "        # self.zipcode_embed\n",
        "        self.sex_embed = nn.Embedding(SEX_LEN, int(math.sqrt(SEX_LEN))).to(device)\n",
        "        self.occupation_embed = nn.Embedding(OCC_LEN, int(math.sqrt(OCC_LEN))).to(device)\n",
        "        self.movie_embed = nn.Embedding(MOVIE_LEN, int(math.sqrt(MOVIE_LEN))+2).to(device)\n",
        "        self.overview_embed_pos = PositionalEmbedding(max_len, 768).to(device)#overview embed dim\n",
        "        self.genere_embed_pos = PositionalEmbedding(max_len, 18).to(device)\n",
        "\n",
        "    def forward(self, batch):\n",
        "        user_id, movie_history, target_movie_id,  movie_history_ratings, _ , sex, age_group, occupation, overview_embed, movie_genere = batch\n",
        "        movie_genere += self.genere_embed_pos(movie_genere)\n",
        "        overview_embed = overview_embed + self.overview_embed_pos(overview_embed)\n",
        "        user_embed = self.user_embed(user_id)\n",
        "        # print(user_embed.shape)\n",
        "        movie_history_embed = self.movie_embed(movie_history)\n",
        "        # print(movie_history_embed.shape)\n",
        "        movie_history_embed = movie_history_embed*movie_history_ratings.unsqueeze(-1)\n",
        "        # print(movie_history_embed.shape)\n",
        "        # print(movie_history_ratings.unsqueeze(-1).shape)\n",
        "\n",
        "        movie_target_embed = self.movie_embed(target_movie_id)\n",
        "        # print(movie_target_embed.unsqueeze(1).shape)\n",
        "        movie_embed = torch.cat((movie_history_embed, movie_target_embed.unsqueeze(1)), axis = 1)\n",
        "        # print(movie_embed.shape)\n",
        "\n",
        "        sex_embed = self.sex_embed(sex)\n",
        "        # print(sex_embed.shape)\n",
        "        age_embed = self.age_embed(age_group)\n",
        "        # print(age_embed.shape)\n",
        "        occ_embed = self.occupation_embed(occupation)\n",
        "        # print(occ_embed.shape)\n",
        "        # print(self.pos_embed(movie_history).shape)\n",
        "        user_features = (user_embed, sex_embed, age_embed, occ_embed)\n",
        "        return movie_embed + self.pos_embed(movie_history), user_features, overview_embed, movie_genere"
      ]
    },
    {
      "cell_type": "code",
      "execution_count": 41,
      "metadata": {
        "id": "WxvI5KNs2ONK"
      },
      "outputs": [],
      "source": [
        "class BST(nn.Module):\n",
        "    def __init__(self):\n",
        "        super().__init__()\n",
        "        self.transformer = nn.TransformerEncoderLayer(64, 4, dim_feedforward=128)\n",
        "        self.embedding = Embedding(8)\n",
        "        self.fc1 = nn.Linear(6884, 1024).to(device)\n",
        "        self.fc2 = nn.Linear(1024, 512).to(device)\n",
        "        self.fc3 = nn.Linear(512, 256).to(device)\n",
        "        self.fc_out = nn.Linear(256, 1).to(device)\n",
        "        self.leaky_relu1 = nn.LeakyReLU().to(device)\n",
        "        self.leaky_relu2 = nn.LeakyReLU().to(device)\n",
        "        self.leaky_relu3 = nn.LeakyReLU().to(device)\n",
        "    def forward(self, batch):\n",
        "        movie_embed, user_features, overview_embed, movie_genre = self.embedding(batch)\n",
        "        transformer_out = self.transformer(movie_embed)\n",
        "        BS = transformer_out.size(0)\n",
        "        transformer_out = transformer_out.view(BS, -1, 1).squeeze(-1)\n",
        "        overview_embed = overview_embed.view(BS, -1, 1).squeeze(-1)\n",
        "        movie_genre = movie_genre.view(BS, -1, 1).squeeze(-1)\n",
        "        #print(overview_embed.shape)\n",
        "        user_out = torch.cat(user_features, axis = 1)\n",
        "        # print(user_out.shape)\n",
        "        # print(transformer_out.shape)\n",
        "        flattened_vector = torch.cat((user_out, movie_genre, transformer_out, overview_embed), axis = 1)\n",
        "        #print(flattened_vector.shape)\n",
        "        out = self.fc1(flattened_vector)\n",
        "        out = self.leaky_relu1(out)\n",
        "        out = self.fc2(out)\n",
        "        out = self.leaky_relu2(out)\n",
        "        out = self.fc3(out)\n",
        "        out = self.leaky_relu3(out)\n",
        "        out = self.fc_out(out)\n",
        "        return out"
      ]
    },
    {
      "cell_type": "code",
      "execution_count": 42,
      "metadata": {
        "id": "I9nnNEQG2Pr8"
      },
      "outputs": [],
      "source": [
        "train_ds = MovieDataset(\"data/train_data.csv\")\n",
        "data = torch.utils.data.DataLoader(train_ds, batch_size=128, shuffle=True)\n",
        "test_ds = MovieDataset(\"data/test_data.csv\")\n",
        "test_dataloader = torch.utils.data.DataLoader(test_ds, batch_size=128, shuffle=True)"
      ]
    },
    {
      "cell_type": "code",
      "execution_count": 43,
      "metadata": {
        "colab": {
          "base_uri": "https://localhost:8080/"
        },
        "id": "LqqpOlrz2RZu",
        "outputId": "648a9459-5c99-41b3-c9b1-41c060fb0493"
      },
      "outputs": [
        {
          "name": "stdout",
          "output_type": "stream",
          "text": [
            "Total number of parameters: 8465082\n"
          ]
        }
      ],
      "source": [
        "model = BST().to(device)\n",
        "criterion = nn.MSELoss()\n",
        "optimizer = torch.optim.Adam(model.parameters(), lr = 0.001)\n",
        "\n",
        "total_params = sum(p.numel() for p in model.parameters())\n",
        "print(f'Total number of parameters: {total_params}')"
      ]
    },
    {
      "cell_type": "code",
      "execution_count": 44,
      "metadata": {
        "id": "qe6TbFnF2SdR"
      },
      "outputs": [],
      "source": [
        "def evaluate(data_loader):\n",
        "    model.eval()\n",
        "    total_loss = 0\n",
        "    total_mae = 0\n",
        "    with torch.no_grad():\n",
        "        for batch in tqdm(data_loader, desc=f'Epoch {epoch + 1}/{epochs}', leave=False):\n",
        "            batch = tuple(tensor.to(device) for tensor in batch)\n",
        "            outputs = model(batch)\n",
        "            y = batch[4]\n",
        "            loss = criterion(outputs, y.float().view(-1, 1))\n",
        "            mae = F.l1_loss(outputs, y.float().view(-1, 1))\n",
        "            total_loss += loss.item()\n",
        "            total_mae += mae\n",
        "    return total_loss/len(data_loader), total_mae/len(data_loader)"
      ]
    },
    {
      "cell_type": "code",
      "execution_count": 45,
      "metadata": {
        "colab": {
          "base_uri": "https://localhost:8080/"
        },
        "id": "p1--TEaV2Wyi",
        "outputId": "d229a0fa-97af-4aba-9415-e905d8934a7f"
      },
      "outputs": [
        {
          "name": "stderr",
          "output_type": "stream",
          "text": []
        },
        {
          "name": "stdout",
          "output_type": "stream",
          "text": [
            "Epoch 1/4, Training, Validation Loss: 0.962, 0.843\n",
            "Epoch 1/4, Training, Validation Loss: 0.780, 0.843\n"
          ]
        },
        {
          "name": "stderr",
          "output_type": "stream",
          "text": []
        },
        {
          "name": "stdout",
          "output_type": "stream",
          "text": [
            "Epoch 2/4, Training, Validation Loss: 0.838, 0.822\n",
            "Epoch 2/4, Training, Validation Loss: 0.726, 0.822\n"
          ]
        },
        {
          "name": "stderr",
          "output_type": "stream",
          "text": []
        },
        {
          "name": "stdout",
          "output_type": "stream",
          "text": [
            "Epoch 3/4, Training, Validation Loss: 0.819, 0.819\n",
            "Epoch 3/4, Training, Validation Loss: 0.717, 0.819\n"
          ]
        },
        {
          "name": "stderr",
          "output_type": "stream",
          "text": [
            "                                                            "
          ]
        },
        {
          "name": "stdout",
          "output_type": "stream",
          "text": [
            "Epoch 4/4, Training, Validation Loss: 0.831, 0.810\n",
            "Epoch 4/4, Training, Validation Loss: 0.720, 0.810\n"
          ]
        },
        {
          "name": "stderr",
          "output_type": "stream",
          "text": [
            "\r"
          ]
        }
      ],
      "source": [
        "from tqdm import tqdm\n",
        "import torch.nn.functional as F\n",
        "\n",
        "epochs = 4\n",
        "for epoch in range(epochs):\n",
        "    total_loss = 0\n",
        "    total_mae = 0\n",
        "    model.train()\n",
        "    for batch in tqdm(data, desc=f'Epoch {epoch + 1}/{epochs}', leave=False):\n",
        "        batch = tuple(tensor.to(device) for tensor in batch)\n",
        "        outputs = model(batch)\n",
        "        y = batch[4]\n",
        "        loss = criterion(outputs, y.float().view(-1, 1))\n",
        "        mae = F.l1_loss(outputs, y.float().view(-1, 1))\n",
        "        total_mae += mae\n",
        "        total_loss += loss.item()\n",
        "        optimizer.zero_grad()\n",
        "        loss.backward()\n",
        "        optimizer.step()\n",
        "    val_loss, val_mae = evaluate(test_dataloader)\n",
        "    print(f'Epoch {epoch + 1}/{epochs}, Training, Validation Loss: {total_loss/len(data):.3f}, {val_loss:.3f}')\n",
        "    print(f'Epoch {epoch + 1}/{epochs}, Training, Validation Loss: {total_mae/len(data):.3f}, {val_loss:.3f}')"
      ]
    },
    {
      "cell_type": "code",
      "execution_count": 46,
      "metadata": {
        "id": "szpRDd8n3QcU"
      },
      "outputs": [],
      "source": [
        "torch.save(model.state_dict(), 'model_weights.pth')"
      ]
    },
    {
      "cell_type": "code",
      "execution_count": 47,
      "metadata": {
        "id": "qWz451pMBB8B"
      },
      "outputs": [],
      "source": [
        "#Just select any row from test and you can see what model will predict and whats the ground truth"
      ]
    },
    {
      "cell_type": "code",
      "execution_count": 56,
      "metadata": {
        "id": "mtCx2zgk6kJX"
      },
      "outputs": [],
      "source": [
        "sample_1 = test_data.iloc[11]#change the index to get different outputs"
      ]
    },
    {
      "cell_type": "code",
      "execution_count": 57,
      "metadata": {
        "id": "nodZNIXp6l5s"
      },
      "outputs": [],
      "source": [
        "user_id = torch.tensor([int(sample_1.user_id)])\n",
        "\n",
        "movie_history = eval(sample_1.sequence_movie_ids)\n",
        "movie_history_ratings = eval(sample_1.sequence_ratings)\n",
        "overview_embed = torch.cat([embed_dict[str(id)].unsqueeze(0) for id in movie_history], axis = 0).unsqueeze(0)\n",
        "movie_genere = torch.cat([movie_genere_dict[str(id)].unsqueeze(0) for id in movie_history], axis = 0).unsqueeze(0)\n",
        "\n",
        "target_movie_id = torch.tensor([movie_history[-1:][0]])\n",
        "target_movie_rating = torch.tensor([movie_history_ratings[-1:][0]])\n",
        "\n",
        "movie_history = torch.LongTensor(movie_history[:-1]).unsqueeze(0)\n",
        "movie_history_ratings = torch.LongTensor(movie_history_ratings[:-1]).unsqueeze(0)\n",
        "\n",
        "sex = torch.tensor([int(sample_1.sex)])\n",
        "age_group = torch.tensor([int(sample_1.age_group)])\n",
        "occupation = torch.tensor([int(sample_1.occupation)])"
      ]
    },
    {
      "cell_type": "code",
      "execution_count": 58,
      "metadata": {
        "colab": {
          "base_uri": "https://localhost:8080/"
        },
        "id": "aQzH6_R66oz2",
        "outputId": "acbc272e-5464-4a70-d05a-725e4a32faff"
      },
      "outputs": [
        {
          "name": "stdout",
          "output_type": "stream",
          "text": [
            "predicted rating tensor([[4.7005]], device='cuda:0')\n"
          ]
        }
      ],
      "source": [
        "with torch.no_grad():\n",
        "    model.eval()\n",
        "    print('predicted rating',model((user_id.to(device), movie_history.to(device), target_movie_id.to(device),  movie_history_ratings.to(device), target_movie_rating.to(device), sex.to(device), age_group.to(device), occupation.to(device), overview_embed.to(device), movie_genere.to(device))))"
      ]
    },
    {
      "cell_type": "code",
      "execution_count": 59,
      "metadata": {
        "colab": {
          "base_uri": "https://localhost:8080/"
        },
        "id": "RkQOLHt36rSQ",
        "outputId": "e8f9c2b3-f8ae-4de5-ad9d-7d49b641f249"
      },
      "outputs": [
        {
          "name": "stdout",
          "output_type": "stream",
          "text": [
            "Actual Rating:-  tensor([5])\n"
          ]
        }
      ],
      "source": [
        "print('Actual Rating:- ',(target_movie_rating))"
      ]
    },
    {
      "cell_type": "code",
      "execution_count": null,
      "metadata": {
        "id": "hJI2JwxlYK8j"
      },
      "outputs": [],
      "source": []
    }
  ],
  "metadata": {
    "accelerator": "GPU",
    "colab": {
      "gpuType": "T4",
      "provenance": []
    },
    "kernelspec": {
      "display_name": "Python 3",
      "name": "python3"
    },
    "language_info": {
      "name": "python"
    }
  },
  "nbformat": 4,
  "nbformat_minor": 0
}
